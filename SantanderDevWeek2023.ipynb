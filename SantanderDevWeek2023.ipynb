{
  "nbformat": 4,
  "nbformat_minor": 0,
  "metadata": {
    "colab": {
      "provenance": [],
      "include_colab_link": true
    },
    "kernelspec": {
      "name": "python3",
      "display_name": "Python 3"
    },
    "language_info": {
      "name": "python"
    }
  },
  "cells": [
    {
      "cell_type": "markdown",
      "metadata": {
        "id": "view-in-github",
        "colab_type": "text"
      },
      "source": [
        "<a href=\"https://colab.research.google.com/github/yurihmello/dio_etl_python/blob/main/SantanderDevWeek2023.ipynb\" target=\"_parent\"><img src=\"https://colab.research.google.com/assets/colab-badge.svg\" alt=\"Open In Colab\"/></a>"
      ]
    },
    {
      "cell_type": "markdown",
      "source": [
        "# Santander Dev Week 2023 (ETL com Python)"
      ],
      "metadata": {
        "id": "BPJQsTCULaC-"
      }
    },
    {
      "cell_type": "markdown",
      "source": [
        "**Contexto:** Você é um cientista de dados no Santander e recebeu a tarefa de envolver seus clientes de maneira mais personalizada. Seu objetivo é usar o poder da IA Generativa para criar mensagens de marketing personalizadas que serão entregues a cada cliente.\n",
        "\n",
        "**Condições do Problema:**\n",
        "\n",
        "1. Você recebeu uma planilha simples, em formato CSV ('SDW2023.csv'), com uma lista de IDs de usuário do banco:\n",
        "  ```\n",
        "  UserID\n",
        "  1\n",
        "  2\n",
        "  3\n",
        "  4\n",
        "  5\n",
        "  ```\n",
        "2. Seu trabalho é consumir o endpoint `GET https://sdw-2023-prd.up.railway.app/users/{id}` (API da Santander Dev Week 2023) para obter os dados de cada cliente.\n",
        "3. Depois de obter os dados dos clientes, você vai usar a API do ChatGPT (OpenAI) para gerar uma mensagem de marketing personalizada para cada cliente. Essa mensagem deve enfatizar a importância dos investimentos.\n",
        "4. Uma vez que a mensagem para cada cliente esteja pronta, você vai enviar essas informações de volta para a API, atualizando a lista de \"news\" de cada usuário usando o endpoint `PUT https://sdw-2023-prd.up.railway.app/users/{id}`.\n",
        "\n"
      ],
      "metadata": {
        "id": "k5fA5OrXt1a3"
      }
    },
    {
      "cell_type": "code",
      "source": [
        "from google.colab import drive\n",
        "drive.mount('/content/drive')"
      ],
      "metadata": {
        "id": "L4Z2i7HwhkL-",
        "outputId": "253ca5e5-3335-41f6-a3de-08bc2406bcb7",
        "colab": {
          "base_uri": "https://localhost:8080/"
        }
      },
      "execution_count": 1,
      "outputs": [
        {
          "output_type": "stream",
          "name": "stdout",
          "text": [
            "Mounted at /content/drive\n"
          ]
        }
      ]
    },
    {
      "cell_type": "code",
      "source": [
        "sdw2023_api_url = 'https://sdw-2023-prd.up.railway.app'"
      ],
      "metadata": {
        "id": "FKqLC_CWoYqR"
      },
      "execution_count": 2,
      "outputs": []
    },
    {
      "cell_type": "markdown",
      "source": [
        "## **E**xtract\n",
        "\n",
        "Extraia a lista de IDs de usuário a partir do arquivo CSV. Para cada ID, faça uma requisição GET para obter os dados do usuário correspondente."
      ],
      "metadata": {
        "id": "9dfI-o7gLRq9"
      }
    },
    {
      "cell_type": "code",
      "execution_count": 4,
      "metadata": {
        "id": "NYydpX_GLRCB",
        "colab": {
          "base_uri": "https://localhost:8080/"
        },
        "outputId": "5d66a8c2-3ffd-4632-dfd9-45f47eebc085"
      },
      "outputs": [
        {
          "output_type": "stream",
          "name": "stdout",
          "text": [
            "[1, 2, 3, 4, 5]\n"
          ]
        }
      ],
      "source": [
        "import pandas as pd\n",
        "\n",
        "df = pd.read_csv('/content/drive/MyDrive/estudo/bootcamp_santander_dio/SDW2023.CSV')\n",
        "user_ids = df['UserID'].tolist()\n",
        "print(user_ids)"
      ]
    },
    {
      "cell_type": "code",
      "source": [
        "import requests\n",
        "import json\n",
        "\n",
        "def get_user(id):\n",
        "  response = requests.get(f'{sdw2023_api_url}/users/{id}')\n",
        "  return response.json() if response.status_code == 200 else None\n",
        "\n",
        "users = [user for id in user_ids if (user := get_user(id)) is not None]\n",
        "print(json.dumps(users, indent=2))"
      ],
      "metadata": {
        "id": "F5XOuCZGSTGw",
        "colab": {
          "base_uri": "https://localhost:8080/"
        },
        "outputId": "80106547-0b6b-4700-d3bd-5e7c67a91015"
      },
      "execution_count": 5,
      "outputs": [
        {
          "output_type": "stream",
          "name": "stdout",
          "text": [
            "[\n",
            "  {\n",
            "    \"id\": 1,\n",
            "    \"name\": \"Devweekerson\",\n",
            "    \"account\": {\n",
            "      \"id\": 1,\n",
            "      \"number\": \"01.097954-4\",\n",
            "      \"agency\": \"2030\",\n",
            "      \"balance\": 624.12,\n",
            "      \"limit\": 1000.0\n",
            "    },\n",
            "    \"card\": {\n",
            "      \"id\": 1,\n",
            "      \"number\": \"xxxx xxxx xxxx 1111\",\n",
            "      \"limit\": 2000.0\n",
            "    },\n",
            "    \"features\": [\n",
            "      {\n",
            "        \"id\": 2,\n",
            "        \"icon\": \"https://digitalinnovationone.github.io/santander-dev-week-2023-api/icons/pay.svg\",\n",
            "        \"description\": \"Pagar\"\n",
            "      },\n",
            "      {\n",
            "        \"id\": 3,\n",
            "        \"icon\": \"https://digitalinnovationone.github.io/santander-dev-week-2023-api/icons/transfer.svg\",\n",
            "        \"description\": \"Transferir\"\n",
            "      },\n",
            "      {\n",
            "        \"id\": 4,\n",
            "        \"icon\": \"https://digitalinnovationone.github.io/santander-dev-week-2023-api/icons/account.svg\",\n",
            "        \"description\": \"Conta Corrente\"\n",
            "      },\n",
            "      {\n",
            "        \"id\": 5,\n",
            "        \"icon\": \"https://digitalinnovationone.github.io/santander-dev-week-2023-api/icons/cards.svg\",\n",
            "        \"description\": \"Cart\\u00f5es\"\n",
            "      },\n",
            "      {\n",
            "        \"id\": 1,\n",
            "        \"icon\": \"https://digitalinnovationone.github.io/santander-dev-week-2023-api/icons/pix.svg\",\n",
            "        \"description\": \"PIX\"\n",
            "      }\n",
            "    ],\n",
            "    \"news\": [\n",
            "      {\n",
            "        \"id\": 1,\n",
            "        \"icon\": \"https://digitalinnovationone.github.io/santander-dev-week-2023-api/icons/credit.svg\",\n",
            "        \"description\": \"O Santander tem solu\\u00e7\\u00f5es de cr\\u00e9dito sob medida pra voc\\u00ea. Confira!\"\n",
            "      },\n",
            "      {\n",
            "        \"id\": 2,\n",
            "        \"icon\": \"https://digitalinnovationone.github.io/santander-dev-week-2023-api/icons/insurance.svg\",\n",
            "        \"description\": \"Santander Seguro Casa, seu faz-tudo. Mais de 50 servi\\u00e7os pra voc\\u00ea. Confira!\"\n",
            "      }\n",
            "    ]\n",
            "  }\n",
            "]\n"
          ]
        }
      ]
    },
    {
      "cell_type": "markdown",
      "source": [
        "## **T**ransform\n",
        "\n",
        "Utilize a API do OpenAI GPT-4 para gerar uma mensagem de marketing personalizada para cada usuário."
      ],
      "metadata": {
        "id": "cWoqInB4TF1x"
      }
    },
    {
      "cell_type": "code",
      "source": [
        "def updateuser(user, message):\n",
        "    if 'news' not in user:\n",
        "        user['news'] = []\n",
        "    user['news'].append(message)\n",
        "\n",
        "\n",
        "for user in users:\n",
        "    if user['id'] in user_ids:\n",
        "        message = {\n",
        "            \"id\": 280,\n",
        "            \"icon\": \"/content/drive/MyDrive/estudo/bootcamp_santander_dio/feliz_natal.avif\",\n",
        "            \"description\": f\"Feliz Natal {user['name']}! Desejamos a você um dia repleto de alegria e sucesso. Boas festas!\"\n",
        "        }\n",
        "        updateuser(user, message)"
      ],
      "metadata": {
        "id": "n1w78kNxTrZY"
      },
      "execution_count": 7,
      "outputs": []
    },
    {
      "cell_type": "markdown",
      "source": [
        "## **L**oad\n",
        "\n",
        "Atualize a lista de \"news\" de cada usuário na API com a nova mensagem gerada."
      ],
      "metadata": {
        "id": "kNuP0SDUZMBY"
      }
    },
    {
      "cell_type": "code",
      "source": [
        "print(json.dumps(users, indent=2))\n",
        "\n",
        "\n",
        "# Salvando os usuários com o novo conteúdo----------------------------\n",
        "with open(r'/content/drive/MyDrive/estudo/bootcamp_santander_dio/usuarios.json', 'w', encoding='utf-8') as file:\n",
        "    json.dump(users, file, indent=2, ensure_ascii=False)\n",
        "\n",
        "print(\"Informações atualizadas gravadas no arquivo usuarios.json.\")"
      ],
      "metadata": {
        "id": "YefWfYBoZMN2",
        "colab": {
          "base_uri": "https://localhost:8080/"
        },
        "outputId": "851708bb-c971-4b8e-ace4-1acd6751f554"
      },
      "execution_count": 9,
      "outputs": [
        {
          "output_type": "stream",
          "name": "stdout",
          "text": [
            "[\n",
            "  {\n",
            "    \"id\": 1,\n",
            "    \"name\": \"Devweekerson\",\n",
            "    \"account\": {\n",
            "      \"id\": 1,\n",
            "      \"number\": \"01.097954-4\",\n",
            "      \"agency\": \"2030\",\n",
            "      \"balance\": 624.12,\n",
            "      \"limit\": 1000.0\n",
            "    },\n",
            "    \"card\": {\n",
            "      \"id\": 1,\n",
            "      \"number\": \"xxxx xxxx xxxx 1111\",\n",
            "      \"limit\": 2000.0\n",
            "    },\n",
            "    \"features\": [\n",
            "      {\n",
            "        \"id\": 2,\n",
            "        \"icon\": \"https://digitalinnovationone.github.io/santander-dev-week-2023-api/icons/pay.svg\",\n",
            "        \"description\": \"Pagar\"\n",
            "      },\n",
            "      {\n",
            "        \"id\": 3,\n",
            "        \"icon\": \"https://digitalinnovationone.github.io/santander-dev-week-2023-api/icons/transfer.svg\",\n",
            "        \"description\": \"Transferir\"\n",
            "      },\n",
            "      {\n",
            "        \"id\": 4,\n",
            "        \"icon\": \"https://digitalinnovationone.github.io/santander-dev-week-2023-api/icons/account.svg\",\n",
            "        \"description\": \"Conta Corrente\"\n",
            "      },\n",
            "      {\n",
            "        \"id\": 5,\n",
            "        \"icon\": \"https://digitalinnovationone.github.io/santander-dev-week-2023-api/icons/cards.svg\",\n",
            "        \"description\": \"Cart\\u00f5es\"\n",
            "      },\n",
            "      {\n",
            "        \"id\": 1,\n",
            "        \"icon\": \"https://digitalinnovationone.github.io/santander-dev-week-2023-api/icons/pix.svg\",\n",
            "        \"description\": \"PIX\"\n",
            "      }\n",
            "    ],\n",
            "    \"news\": [\n",
            "      {\n",
            "        \"id\": 1,\n",
            "        \"icon\": \"https://digitalinnovationone.github.io/santander-dev-week-2023-api/icons/credit.svg\",\n",
            "        \"description\": \"O Santander tem solu\\u00e7\\u00f5es de cr\\u00e9dito sob medida pra voc\\u00ea. Confira!\"\n",
            "      },\n",
            "      {\n",
            "        \"id\": 2,\n",
            "        \"icon\": \"https://digitalinnovationone.github.io/santander-dev-week-2023-api/icons/insurance.svg\",\n",
            "        \"description\": \"Santander Seguro Casa, seu faz-tudo. Mais de 50 servi\\u00e7os pra voc\\u00ea. Confira!\"\n",
            "      },\n",
            "      {\n",
            "        \"id\": 280,\n",
            "        \"icon\": \"/content/drive/MyDrive/estudo/bootcamp_santander_dio/feliz_natal.avif\",\n",
            "        \"description\": \"Feliz Natal Devweekerson! Desejamos a voc\\u00ea um dia repleto de alegria e sucesso. Boas festas!\"\n",
            "      }\n",
            "    ]\n",
            "  }\n",
            "]\n",
            "Informações atualizadas gravadas no arquivo usuarios.json.\n"
          ]
        }
      ]
    },
    {
      "cell_type": "code",
      "source": [],
      "metadata": {
        "id": "pc6rTGhaj0MB"
      },
      "execution_count": null,
      "outputs": []
    }
  ]
}